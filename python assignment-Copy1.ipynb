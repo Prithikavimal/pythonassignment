{
 "cells": [
  {
   "cell_type": "code",
   "execution_count": 2,
   "id": "75e98bd2",
   "metadata": {},
   "outputs": [
    {
     "name": "stdout",
     "output_type": "stream",
     "text": [
      "* \n",
      "* * \n",
      "* * * \n",
      "* * * * \n",
      "* * * * * \n"
     ]
    }
   ],
   "source": [
    "#11program\n",
    "row = 5\n",
    "for i in range(0, row):\n",
    "    for j in range(0, i + 1):\n",
    "        print(\"*\", end=' ')\n",
    "    print(\"\\r\")"
   ]
  },
  {
   "cell_type": "code",
   "execution_count": 5,
   "id": "4be41c02",
   "metadata": {},
   "outputs": [
    {
     "name": "stdout",
     "output_type": "stream",
     "text": [
      "enter a string:p*y#t^h$o#n\n",
      "The input string is : \n",
      "p*y#t^h$o#n\n",
      "The cleared string is :\n",
      "python\n"
     ]
    }
   ],
   "source": [
    "#12program\n",
    "import re\n",
    "\n",
    "str1 = str(input(\"enter a string:\"))\n",
    "\n",
    "print (\"The input string is : \")\n",
    "print(str1)\n",
    "\n",
    "op = re.sub('[\\W_]+', '', str1)\n",
    "\n",
    "print (\"The cleared string is :\")\n",
    "print(op)"
   ]
  },
  {
   "cell_type": "code",
   "execution_count": 7,
   "id": "efbe4376",
   "metadata": {},
   "outputs": [
    {
     "name": "stdout",
     "output_type": "stream",
     "text": [
      "the value is : 25\n",
      "the value is : 55\n",
      "the value is : 90\n"
     ]
    }
   ],
   "source": [
    "#13program\n",
    "x=[21,25,55,90,87]\n",
    "for i in x:\n",
    "    if(i%5==0):\n",
    "        print('the value is :',i)\n",
    "    else :\n",
    "        continue"
   ]
  },
  {
   "cell_type": "code",
   "execution_count": 9,
   "id": "16362a9a",
   "metadata": {},
   "outputs": [
    {
     "name": "stdout",
     "output_type": "stream",
     "text": [
      "enter a string:hi hi hi\n",
      "the string \"hi\" has appeared 3 times\n"
     ]
    }
   ],
   "source": [
    "#14program\n",
    "str1 = str(input(\"enter a string:\"))\n",
    "n=int(str1.count('hi'))\n",
    "print(\"the string \\\"hi\\\" has appeared \"+format(n)+\" times\")"
   ]
  },
  {
   "cell_type": "code",
   "execution_count": 10,
   "id": "b85596d2",
   "metadata": {},
   "outputs": [
    {
     "name": "stdout",
     "output_type": "stream",
     "text": [
      "\n",
      "1 \n",
      "2 2 \n",
      "3 3 3 \n",
      "4 4 4 4 \n",
      "5 5 5 5 5 \n"
     ]
    }
   ],
   "source": [
    "#15program\n",
    "row = 6\n",
    "for i in range(row):\n",
    "    \n",
    "    for j in range(i):\n",
    "        print(i, end=' ')\n",
    "    print('')"
   ]
  },
  {
   "cell_type": "code",
   "execution_count": 11,
   "id": "6a00eb6c",
   "metadata": {},
   "outputs": [
    {
     "name": "stdout",
     "output_type": "stream",
     "text": [
      "Enter number of elements in the list : 5\n",
      "Enter the 1th element:\n",
      "22\n",
      "Enter the 2th element:\n",
      "2\n",
      "Enter the 3th element:\n",
      "3\n",
      "Enter the 4th element:\n",
      "5\n",
      "Enter the 5th element:\n",
      "6\n",
      "enter the element that you want in the first place of the list:3\n",
      "enter the element that you want in the first place of the list:5\n",
      "[3, 2, 3, 5, 5]\n"
     ]
    }
   ],
   "source": [
    "list\n",
    "#python program to interchange first and last elements in list\n",
    "listt = []\n",
    "n = int(input(\"Enter number of elements in the list : \"))\n",
    "for i in range(0, n):\n",
    "   print(\"Enter the \"+format(i+1)+\"th element:\")\n",
    "   elm = int(input())\n",
    "   listt.append(elm)\n",
    "first=int(input(\"enter the element that you want in the first place of the list:\"))\n",
    "last=int(input(\"enter the element that you want in the first place of the list:\"))\n",
    "listt[0]=first\n",
    "listt[-1]=last\n",
    "print(listt)"
   ]
  },
  {
   "cell_type": "code",
   "execution_count": 12,
   "id": "12fb0dad",
   "metadata": {},
   "outputs": [
    {
     "name": "stdout",
     "output_type": "stream",
     "text": [
      "[1, 14, 4, 6, 6, 15]\n",
      "Swapped list:  [1, 14, 6, 6, 4, 15]\n"
     ]
    }
   ],
   "source": [
    "#program to swap two elements\n",
    "def swapL(sl,pos1,pos2):\n",
    "    n = len(sl)     \n",
    "    temp = sl[pos1]\n",
    "    sl[pos1] = sl[pos2]\n",
    "    sl[pos2] = temp\n",
    "    return sl      \n",
    "\n",
    "m= [1, 14, 4, 6, 6, 15]\n",
    "pos1= 3\n",
    "pos2= 5\n",
    "\n",
    "print(m)\n",
    "print(\"Swapped list: \",swapL(m,pos1-1,pos2-1))"
   ]
  },
  {
   "cell_type": "code",
   "execution_count": 14,
   "id": "c3fb935a",
   "metadata": {},
   "outputs": [
    {
     "name": "stdout",
     "output_type": "stream",
     "text": [
      "length of the list= 7\n",
      "the length of the list is 7\n"
     ]
    }
   ],
   "source": [
    "#ways to find length\n",
    "list1=[1,2,3,'wee','bangtan',6,7]\n",
    "n=0\n",
    "print(\"length of the list=\",len(list1))\n",
    "for i in list1:\n",
    "    n=n+1\n",
    "print(\"the length of the list is\",n)"
   ]
  },
  {
   "cell_type": "code",
   "execution_count": 16,
   "id": "d5dadc41",
   "metadata": {},
   "outputs": [
    {
     "name": "stdout",
     "output_type": "stream",
     "text": [
      "274\n"
     ]
    }
   ],
   "source": [
    "#maximum of two nos\n",
    "n = [2,4,8,1,274]\n",
    "\n",
    "  \n",
    "maxi = max(n )\n",
    "print(maxi)"
   ]
  },
  {
   "cell_type": "code",
   "execution_count": 17,
   "id": "73632aaa",
   "metadata": {},
   "outputs": [
    {
     "name": "stdout",
     "output_type": "stream",
     "text": [
      "69\n"
     ]
    }
   ],
   "source": [
    "#minimum of two nos\n",
    "n = [274,390,844,69]\n",
    "\n",
    "  \n",
    "mini = min(n)\n",
    "print(mini)"
   ]
  },
  {
   "cell_type": "code",
   "execution_count": 19,
   "id": "f33b4369",
   "metadata": {},
   "outputs": [
    {
     "name": "stdout",
     "output_type": "stream",
     "text": [
      "the entered string is not a palindrome\n"
     ]
    }
   ],
   "source": [
    "#STRING\n",
    "#check whether the string is symmetrical or palindrome\n",
    "str2=str1[::-1]\n",
    "\n",
    "if str1==str2:\n",
    "    print(\"the entered string is a palindrome\")\n",
    "else:\n",
    "    print(\"the entered string is not a palindrome\")\n"
   ]
  },
  {
   "cell_type": "code",
   "execution_count": 21,
   "id": "0595e85c",
   "metadata": {},
   "outputs": [
    {
     "name": "stdout",
     "output_type": "stream",
     "text": [
      "hasimnikka! annyeong\n"
     ]
    }
   ],
   "source": [
    "#reverse words in string\n",
    "string = \"annyeong hasimnikka!\"\n",
    "\n",
    "n = string.split()[::-1]\n",
    "l = []\n",
    "for i in n:\n",
    "    \n",
    "    l.append(i)\n",
    "\n",
    "print(\" \".join(l))"
   ]
  },
  {
   "cell_type": "code",
   "execution_count": 22,
   "id": "ad220d4b",
   "metadata": {},
   "outputs": [
    {
     "name": "stdout",
     "output_type": "stream",
     "text": [
      "enter a string:programming\n",
      "enter the position of the element you want to remove:9\n",
      "String after removal of character: programmng\n"
     ]
    }
   ],
   "source": [
    "#ways to remove i'th character from string\n",
    "str1=str(input(\"enter a string:\"))\n",
    "i=int(input(\"enter the position of the element you want to remove:\"))\n",
    "str2 = str1[:i-1] +  str1[i:] \n",
    "print (\"String after removal of character: \" + str2)"
   ]
  },
  {
   "cell_type": "code",
   "execution_count": 23,
   "id": "b2e2ae0e",
   "metadata": {},
   "outputs": [
    {
     "name": "stdout",
     "output_type": "stream",
     "text": [
      "Enter number of elements in the tuple : 5\n",
      "Enter the 1th element:\n",
      "1\n",
      "Enter the 2th element:\n",
      "2\n",
      "Enter the 3th element:\n",
      "r4\n",
      "Enter the 4th element:\n",
      "66\n",
      "Enter the 5th element:\n",
      "6\n",
      "size of the tuple is: 64 bytes\n",
      "the length of the tuple is: 5\n"
     ]
    }
   ],
   "source": [
    "#tuples\n",
    "#size of the tuple\n",
    "tuplee = []\n",
    "n = int(input(\"Enter number of elements in the tuple : \"))\n",
    "for i in range(0, n):\n",
    "   print(\"Enter the \"+format(i+1)+\"th element:\")\n",
    "   elm = (input())\n",
    "   tuplee.append(elm)\n",
    "tuple1=tuple(tuplee)\n",
    "print(\"size of the tuple is:\", tuple1.__sizeof__(),\"bytes\")\n",
    "print(\"the length of the tuple is:\",len(tuple1))\n"
   ]
  },
  {
   "cell_type": "code",
   "execution_count": 24,
   "id": "dec83826",
   "metadata": {},
   "outputs": [
    {
     "name": "stdout",
     "output_type": "stream",
     "text": [
      "9\n",
      "0\n"
     ]
    }
   ],
   "source": [
    "#maximum and minimum k elements\n",
    "n=(0,3,9,2,4)\n",
    "x=max(n)\n",
    "y=min(n)\n",
    "print(x)\n",
    "print(y)"
   ]
  },
  {
   "cell_type": "code",
   "execution_count": 26,
   "id": "f8592969",
   "metadata": {},
   "outputs": [
    {
     "name": "stdout",
     "output_type": "stream",
     "text": [
      "Enter number of elements in the tuple : 5\n",
      "Enter the 1th element:\n",
      "2\n",
      "Enter the 2th element:\n",
      "33\n",
      "Enter the 3th element:\n",
      "45\n",
      "Enter the 4th element:\n",
      "12\n",
      "Enter the 5th element:\n",
      "97\n",
      "the sum is: 189\n"
     ]
    }
   ],
   "source": [
    "#sum of tuple elements\n",
    "tuplee = []\n",
    "sum=0\n",
    "n = int(input(\"Enter number of elements in the tuple : \"))\n",
    "for i in range(0, n):\n",
    "   print(\"Enter the \"+format(i+1)+\"th element:\")\n",
    "   elm = int(input())\n",
    "   tuplee.append(elm)\n",
    "tuple1=tuple(tuplee)\n",
    "for i in tuple1:\n",
    "    sum=sum+i\n",
    "print(\"the sum is:\", sum)\n"
   ]
  },
  {
   "cell_type": "code",
   "execution_count": 28,
   "id": "d3201bc6",
   "metadata": {},
   "outputs": [
    {
     "name": "stdout",
     "output_type": "stream",
     "text": [
      "['key1', 'key4']\n"
     ]
    }
   ],
   "source": [
    "#dictionary\n",
    "#sort python dictionaries\n",
    "d={\"key4\":\"8\",\"key1\":\"2\",\"key4\":\"1\"}\n",
    "print(sorted(d))"
   ]
  },
  {
   "cell_type": "code",
   "execution_count": 29,
   "id": "d5fd7e34",
   "metadata": {},
   "outputs": [
    {
     "name": "stdout",
     "output_type": "stream",
     "text": [
      "The dictionary is :\n",
      "{(19, 3, 4): 31, (5, 16, 4): 1}\n"
     ]
    }
   ],
   "source": [
    "#dictionary with keys having multiple inputs\n",
    "a, b, c = 19, 3, 4\n",
    "dict1 = {}\n",
    "dict1[a, b, c] = a + b * c\n",
    "\n",
    "a, b, c = 5, 16, 4\n",
    "dict1[a, b, c] = a - b//c\n",
    "\n",
    "print(\"The dictionary is :\")\n",
    "print(dict1)\n"
   ]
  },
  {
   "cell_type": "code",
   "execution_count": 30,
   "id": "44e109cc",
   "metadata": {},
   "outputs": [
    {
     "data": {
      "text/plain": [
       "200"
      ]
     },
     "execution_count": 30,
     "metadata": {},
     "output_type": "execute_result"
    }
   ],
   "source": [
    "#SET\n",
    "#size of the set\n",
    "a={7,2,1,5}\n",
    "a.__sizeof__()"
   ]
  },
  {
   "cell_type": "code",
   "execution_count": 31,
   "id": "1a994fa9",
   "metadata": {},
   "outputs": [
    {
     "name": "stdout",
     "output_type": "stream",
     "text": [
      "the size of the set is 200 bytes\n",
      "the length of the set is 4\n"
     ]
    }
   ],
   "source": [
    "#iterate over a set\n",
    "sett = {\"a\", \"b\", 1,(\"a\",1,2)}\n",
    "print(\"the size of the set is\",sett.__sizeof__(),\"bytes\")\n",
    "print(\"the length of the set is\", len(sett))\n"
   ]
  },
  {
   "cell_type": "code",
   "execution_count": 33,
   "id": "390631fc",
   "metadata": {},
   "outputs": [
    {
     "name": "stdout",
     "output_type": "stream",
     "text": [
      "The original list :  [[4, 7, 5], [15, 10, 11], [4, 3, 6], [18, 1, 14]]\n",
      "The Assigned Matrix :  {4: [15, 10, 11], 7: [4, 3, 6], 5: [18, 1, 14]}\n"
     ]
    }
   ],
   "source": [
    "#MATRIX\n",
    "#assigning subsequent rows to matrix first row elements\n",
    "list = [[4,7,5], [15,10,11], [4,3,6], [18, 1, 14]]\n",
    "print(\"The original list : \",str(list))\n",
    "res = {list[0][ele] :  list[ele + 1] for ele in range(len(list) - 1)}\n",
    "print(\"The Assigned Matrix : \", str(res))"
   ]
  },
  {
   "cell_type": "code",
   "execution_count": 36,
   "id": "aeb8c7f3",
   "metadata": {},
   "outputs": [
    {
     "name": "stdout",
     "output_type": "stream",
     "text": [
      "Printing elements of first matrix\n",
      "[[3 5]\n",
      " [4 9]]\n",
      "Printing elements of second matrix\n",
      "[[6 5]\n",
      " [5 2]]\n",
      "Addition of two matrix\n",
      "[[ 9 10]\n",
      " [ 9 11]]\n"
     ]
    }
   ],
   "source": [
    "#adding and substracting matrices\n",
    "import numpy as np\n",
    "A = np.array([[3,5], [4,9]])\n",
    "B = np.array([[6, 5], [5, 2]])\n",
    "print(\"Printing elements of first matrix\")\n",
    "print(A)\n",
    "print(\"Printing elements of second matrix\")\n",
    "print(B)\n",
    "print(\"Addition of two matrix\")\n",
    "print(np.add(A, B))\n"
   ]
  },
  {
   "cell_type": "code",
   "execution_count": 37,
   "id": "7876dc22",
   "metadata": {},
   "outputs": [
    {
     "name": "stdout",
     "output_type": "stream",
     "text": [
      "(a, b)\n"
     ]
    }
   ],
   "source": [
    "#functions\n",
    "#list of parameters name\n",
    "def mul(a, b):\n",
    "    return a*b\n",
    "import inspect as ip \n",
    "print(ip.signature(mul))"
   ]
  },
  {
   "cell_type": "code",
   "execution_count": 38,
   "id": "0d46542a",
   "metadata": {},
   "outputs": [
    {
     "name": "stdout",
     "output_type": "stream",
     "text": [
      "hi anneyong,  hansimnikka\n"
     ]
    }
   ],
   "source": [
    "#print multiple arguments\n",
    "def a(name, nam1):\n",
    "    print(\"hi\", name +', ' , nam1)\n",
    "a(\"anneyong\", \"hansimnikka\")"
   ]
  },
  {
   "cell_type": "code",
   "execution_count": null,
   "id": "98686048",
   "metadata": {},
   "outputs": [],
   "source": []
  }
 ],
 "metadata": {
  "kernelspec": {
   "display_name": "Python 3 (ipykernel)",
   "language": "python",
   "name": "python3"
  },
  "language_info": {
   "codemirror_mode": {
    "name": "ipython",
    "version": 3
   },
   "file_extension": ".py",
   "mimetype": "text/x-python",
   "name": "python",
   "nbconvert_exporter": "python",
   "pygments_lexer": "ipython3",
   "version": "3.9.12"
  }
 },
 "nbformat": 4,
 "nbformat_minor": 5
}
